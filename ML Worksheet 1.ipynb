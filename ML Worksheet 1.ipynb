{
 "cells": [
  {
   "cell_type": "markdown",
   "id": "5f5a6ced",
   "metadata": {},
   "source": [
    "# ML WORKSEET 1\n",
    "\n",
    "\n",
    "Question 1"
   ]
  },
  {
   "cell_type": "code",
   "execution_count": 32,
   "id": "deb43dd6",
   "metadata": {},
   "outputs": [
    {
     "name": "stdout",
     "output_type": "stream",
     "text": [
      "Enter a number to calculate factorial----> 5\n",
      "120\n"
     ]
    }
   ],
   "source": [
    "def factorial(number):\n",
    "    if number == 0:\n",
    "        return 1    #----------------------------------------------------factorial of zero is 1\n",
    "    else:\n",
    "        return (number * factorial(number-1))\n",
    "number=int(input(\"Enter a number to calculate factorial----> \"))\n",
    "print(factorial(number))"
   ]
  },
  {
   "cell_type": "markdown",
   "id": "975f3543",
   "metadata": {},
   "source": [
    "Question 2"
   ]
  },
  {
   "cell_type": "code",
   "execution_count": 34,
   "id": "23a31148",
   "metadata": {},
   "outputs": [
    {
     "name": "stdout",
     "output_type": "stream",
     "text": [
      "Enter the person name ---> R2D2\n",
      "Luke, I am your droid\n"
     ]
    }
   ],
   "source": [
    "Person=[\"Darth Vader\",\"Leia\",\"Han\",\"R2D2\"]\n",
    "def relation_to_luke(Person):\n",
    "    for x in Person:\n",
    "        Relation=[\"father\",\"sister\",\"brother in law\",\"droid\"]\n",
    "        c=input(\"Enter the person name ---> \")\n",
    "        if(c==\"Darth Vader\"):\n",
    "            return(Relation[0])\n",
    "        elif (c==\"Leia\"):\n",
    "            return(Relation[1])\n",
    "        elif (c==\"Han\"):\n",
    "            return(Relation[2])\n",
    "        elif (c==\"R2D2\"):\n",
    "            return(Relation[3])\n",
    "print(\"Luke, I am your {}\".format(relation_to_luke(Person)))  "
   ]
  },
  {
   "cell_type": "markdown",
   "id": "f14c00f8",
   "metadata": {},
   "source": [
    "Question 3"
   ]
  },
  {
   "cell_type": "code",
   "execution_count": 35,
   "id": "591fc35d",
   "metadata": {},
   "outputs": [
    {
     "name": "stdout",
     "output_type": "stream",
     "text": [
      "Enter number:5647\n",
      "The number of digits in the number are: 4\n"
     ]
    }
   ],
   "source": [
    "n=int(input(\"Enter number:\"))\n",
    "def number(n):\n",
    "    count=0\n",
    "    while(n>0):\n",
    "        c=1     \n",
    "        count=count+1\n",
    "        c=c*10 \n",
    "        n=n//c\n",
    "    return count\n",
    "print(\"The number of digits in the number are:\",number(n))"
   ]
  },
  {
   "cell_type": "markdown",
   "id": "97780c47",
   "metadata": {},
   "source": [
    "Question 4"
   ]
  },
  {
   "cell_type": "code",
   "execution_count": 36,
   "id": "486a2aa1",
   "metadata": {},
   "outputs": [
    {
     "name": "stdout",
     "output_type": "stream",
     "text": [
      "Enter a number till which factorial needs to be calculated----> 5\n",
      "!5*!4*!3*!2*!1*=2880\n"
     ]
    }
   ],
   "source": [
    "def factorial(number):\n",
    "    if number == 0:\n",
    "        return 1    #----------------------------------------------------factorial of zero is 1\n",
    "    else:\n",
    "        return (number * factorial(number-1))\n",
    "number=int(input(\"Enter a number till which factorial needs to be calculated----> \"))\n",
    "d=(factorial(number)*factorial(number-1))\n",
    "for i in range(number,0,-1):\n",
    "    print(\"!{}*\".format(i),end=\"\") \n",
    "print(\"={}\".format(d))"
   ]
  },
  {
   "cell_type": "markdown",
   "id": "fa62b637",
   "metadata": {},
   "source": [
    "Question 5"
   ]
  },
  {
   "cell_type": "code",
   "execution_count": 40,
   "id": "3c28c94b",
   "metadata": {},
   "outputs": [
    {
     "name": "stdout",
     "output_type": "stream",
     "text": [
      "Enter a number---> 4\n",
      "1 + 4 + 9 + 16 = 30\n"
     ]
    }
   ],
   "source": [
    "def sqsum(number):\n",
    "    a=[]\n",
    "    for i in range(1,number+1,1):\n",
    "        print(i*i,end=\" \")\n",
    "        if(i<number):\n",
    "            print(\"+\",end=\" \")\n",
    "        a.append(i*i)\n",
    "    return(sum(a))\n",
    "number=int(input(\"Enter a number---> \"))\n",
    "print(\"=\",(sqsum(number)))"
   ]
  },
  {
   "cell_type": "markdown",
   "id": "41d69be1",
   "metadata": {},
   "source": [
    "Question 6"
   ]
  },
  {
   "cell_type": "code",
   "execution_count": 41,
   "id": "ebce6d86",
   "metadata": {},
   "outputs": [
    {
     "name": "stdout",
     "output_type": "stream",
     "text": [
      "Enter first number---> 2\n",
      "Enter second number---> 4\n",
      "Enter a operator---> *\n",
      "8\n"
     ]
    }
   ],
   "source": [
    "number1=int(input(\"Enter first number---> \"))\n",
    "number2=int(input(\"Enter second number---> \"))\n",
    "operator=(input(\"Enter a operator---> \"))\n",
    "def operations(number1,number2,operator):\n",
    "    if(operator==\"+\"):\n",
    "        return(number1+number2)\n",
    "    elif(operator==\"-\"):\n",
    "        return(number1-number2)\n",
    "    elif(operator==\"*\"):\n",
    "        return(number1*number2)\n",
    "    elif(operator==\"/\"):\n",
    "        return(number1/number2)\n",
    "print((operations(number1,number2,operator)))"
   ]
  },
  {
   "cell_type": "markdown",
   "id": "0722a4e3",
   "metadata": {},
   "source": [
    "Question 7"
   ]
  },
  {
   "cell_type": "code",
   "execution_count": 42,
   "id": "1ca64c9b",
   "metadata": {},
   "outputs": [
    {
     "name": "stdout",
     "output_type": "stream",
     "text": [
      "Enter a number ----> 4\n",
      "I CAN, I WILL, I CAN, I WILL, None\n"
     ]
    }
   ],
   "source": [
    "def odr(n):\n",
    "    n=int(input(\"Enter a number ----> \" ))\n",
    "    b=[\"I WILL\",\"I CAN\"]*n\n",
    "    for x in range(1,n+1):\n",
    "        print(\"{}, \".format(b[x]),end=\"\")\n",
    "print((odr(n)))"
   ]
  },
  {
   "cell_type": "markdown",
   "id": "58401e4f",
   "metadata": {},
   "source": [
    "Question 8"
   ]
  },
  {
   "cell_type": "code",
   "execution_count": 28,
   "id": "e787b263",
   "metadata": {},
   "outputs": [
    {
     "name": "stdout",
     "output_type": "stream",
     "text": [
      "Enter the number --->3\n",
      "3 has 0.0 pairs, 3 is left behind \n",
      "None\n"
     ]
    }
   ],
   "source": [
    "g=int(input(\"Enter the number --->\"))\n",
    "def d(g):\n",
    "    colors=[1,2,1,2,1,3,2]\n",
    "    for i in colors:\n",
    "        if(colors.index(g)==colors.index(i)):\n",
    "            d=0\n",
    "            d=colors.count(g)\n",
    "            c1=1\n",
    "            if((d%2==0)):\n",
    "                c1=c1+1\n",
    "                print(\"{} has {} pairs,\".format(g,c1),end=\" \")\n",
    "                print(\"No {} is left behind \".format(g))\n",
    "                break\n",
    "            elif(c1%2==1):\n",
    "                    e=0\n",
    "                    e=d-c1\n",
    "                    print(\"{} has {} pairs,\".format(g,e/2),end=\" \")\n",
    "                    print(\"{} is left behind \".format(g))\n",
    "                    break\n",
    "print(d(g))    "
   ]
  }
 ],
 "metadata": {
  "kernelspec": {
   "display_name": "Python 3",
   "language": "python",
   "name": "python3"
  },
  "language_info": {
   "codemirror_mode": {
    "name": "ipython",
    "version": 3
   },
   "file_extension": ".py",
   "mimetype": "text/x-python",
   "name": "python",
   "nbconvert_exporter": "python",
   "pygments_lexer": "ipython3",
   "version": "3.8.8"
  }
 },
 "nbformat": 4,
 "nbformat_minor": 5
}
